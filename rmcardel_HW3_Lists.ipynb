{
 "cells": [
  {
   "cell_type": "code",
   "execution_count": 5,
   "id": "43c61910",
   "metadata": {},
   "outputs": [
    {
     "name": "stdout",
     "output_type": "stream",
     "text": [
      "Assignment 3\n"
     ]
    }
   ],
   "source": [
    "\"\"\"BMI 6018 Fall 2022 \n",
    "\n",
    "Instructions: For this assignment, please return all answers as variables in your\n",
    ".py file. You will quickly note that you will need to find answers outside the\n",
    "class lectures. This is not an accident! You will need to become professionally\n",
    "comfortable with looking things up via the python docs and google. \n",
    "\n",
    "Ensure that all variables are labelled according to the example. IE the answer\n",
    "to problem 1 part c should be labelled one_c. While all questions are answerable\n",
    "with a single line of code, you are free to use helper variables so long as they\n",
    "are helpfully/informatively named. \n",
    "\n",
    "I should be able to open your .py file and run it without errors. I will **not** be \n",
    "debugging your code for you. If your file does not run, it will **not** be graded. \n",
    "If you are unsure if your file will run, open up a chpc terminal and test it there.\n",
    "\n",
    "For this assignment, please only use base python files types. That is: there \n",
    "should be no import calls in your file save my use of sys at the end.\n",
    "\n",
    "Example Problem\n",
    "\n",
    "0.a Create a list of strings\n",
    "0.b Using a str method, capitalize one of the elements in the list using a slice\n",
    "0.c Coerce one character of the list to display as a hex\n",
    "\n",
    "zero_a = ['first','second','third','fourth','fifth']\n",
    "zero_b = zero_a[1].upper()\n",
    "zero_c = hex(ord(zero_a[1][1]))\n",
    "\n",
    "\"\"\"\n",
    "\n",
    "#Start your assignment here\n",
    "print(\"Assignment 3\")\n",
    "\n"
   ]
  },
  {
   "cell_type": "markdown",
   "id": "9ea27def",
   "metadata": {},
   "source": [
    "## Problem 1: Lists, Sets and Coersion"
   ]
  },
  {
   "cell_type": "code",
   "execution_count": 1,
   "id": "d194dac6",
   "metadata": {},
   "outputs": [
    {
     "name": "stdout",
     "output_type": "stream",
     "text": [
      "[0, 1, 2, 3, 4, 5, 6, 7, 8, 9]\n"
     ]
    }
   ],
   "source": [
    "#1.a Create a list of integers no fewer than 10 items from 0 to 9.\n",
    "one_a = list(range(0,10))\n",
    "print(one_a)"
   ]
  },
  {
   "cell_type": "code",
   "execution_count": 3,
   "id": "a2e09364",
   "metadata": {},
   "outputs": [
    {
     "name": "stdout",
     "output_type": "stream",
     "text": [
      "[0, 1, 2, 3, 4, 3, 5, 6, 7, 8, 9]\n"
     ]
    }
   ],
   "source": [
    "#1.b Add 3 to the 5th indexed element\n",
    "# https://www.geeksforgeeks.org/how-to-replace-values-in-a-list-in-python/\n",
    "one_b = one_a.copy()\n",
    "one_b.insert(5, 3)\n",
    "print(one_b)\n",
    "\n",
    "# Umang told me in the discussion \"It means add the number 3 to the list at the 5th index\""
   ]
  },
  {
   "cell_type": "code",
   "execution_count": 4,
   "id": "1a2447a8",
   "metadata": {},
   "outputs": [
    {
     "name": "stdout",
     "output_type": "stream",
     "text": [
      "[0.0, 1.0, 2.0, 3.0, 4.0, 3.0, 5.0, 6.0, 7.0, 8.0, 9.0]\n"
     ]
    }
   ],
   "source": [
    "#1.c Coerce all elements in the list to floats using list comprehension\n",
    "# https://stackoverflow.com/questions/1614236/in-python-how-do-i-convert-all-of-the-items-in-a-list-to-floats\n",
    "one_c = [float(i) for i in one_b]\n",
    "print(one_c)"
   ]
  },
  {
   "cell_type": "code",
   "execution_count": 5,
   "id": "c9104500",
   "metadata": {},
   "outputs": [
    {
     "name": "stdout",
     "output_type": "stream",
     "text": [
      "{0.0, 1.0, 2.0, 3.0, 4.0, 5.0, 6.0, 7.0, 8.0, 9.0}\n"
     ]
    }
   ],
   "source": [
    "#1.d Coerce the list to a set\n",
    "one_d = set(one_c)\n",
    "print(one_d)"
   ]
  },
  {
   "cell_type": "code",
   "execution_count": 7,
   "id": "a201b4bd",
   "metadata": {},
   "outputs": [
    {
     "name": "stdout",
     "output_type": "stream",
     "text": [
      "{0.0, 1.0, 2.0, 3.0, 4.0, 5.0, 6.0, 7.0, 8.0, 9.0, 10}\n"
     ]
    }
   ],
   "source": [
    "#1.e Using a method, append int 10 to the set\n",
    "one_e = one_d.copy()\n",
    "one_e.add(int(10))\n",
    "print(one_e)"
   ]
  },
  {
   "cell_type": "code",
   "execution_count": 8,
   "id": "4a8f7e8a",
   "metadata": {},
   "outputs": [
    {
     "name": "stdout",
     "output_type": "stream",
     "text": [
      "{1.0, 2.0, 3.0, 4.0, 5.0, 6.0, 7.0, 8.0, 9.0, 10}\n"
     ]
    }
   ],
   "source": [
    "#1.f Using a method, pop an item from the set\n",
    "one_f = one_e.copy()\n",
    "one_f.pop()\n",
    "print(one_f)"
   ]
  },
  {
   "cell_type": "code",
   "execution_count": 9,
   "id": "40fc4fc7",
   "metadata": {},
   "outputs": [
    {
     "name": "stdout",
     "output_type": "stream",
     "text": [
      "10\n"
     ]
    }
   ],
   "source": [
    "#1.g Using a length counting function, count the number of items in the set\n",
    "one_g = one_f.copy()\n",
    "print(len(one_g))"
   ]
  },
  {
   "cell_type": "code",
   "execution_count": 10,
   "id": "b60901d6",
   "metadata": {},
   "outputs": [
    {
     "name": "stdout",
     "output_type": "stream",
     "text": [
      "one_h: The set and the list contain the same number of elements: False\n"
     ]
    }
   ],
   "source": [
    "#1.h Check if the number of items in the set is the same as the number of items in the list\n",
    "# https://www.pythonforbeginners.com/basics/compare-two-lists-in-python\n",
    "def compare(one_g, one_c):\n",
    "    if len(one_g) != len(one_c):\n",
    "        return False\n",
    "    else:\n",
    "        return True\n",
    "\n",
    "print(\"one_h: The set and the list contain the same number of elements:\",compare(one_g, one_c))"
   ]
  },
  {
   "cell_type": "code",
   "execution_count": 11,
   "id": "37719f4c",
   "metadata": {},
   "outputs": [
    {
     "name": "stdout",
     "output_type": "stream",
     "text": [
      "[0, 1, 2, 3, 4, 5, 6, 7, 8, 9, 1.0, 2.0, 3.0, 4.0, 5.0, 6.0, 7.0, 8.0, 9.0, 10]\n"
     ]
    }
   ],
   "source": [
    "#1.i Coerce the set to a list and use the \"+\" operator combine the list to the list from 1.a\n",
    "one_i = one_a + list(one_g)\n",
    "print(one_i)"
   ]
  },
  {
   "cell_type": "code",
   "execution_count": 12,
   "id": "5690f8f2",
   "metadata": {},
   "outputs": [
    {
     "name": "stdout",
     "output_type": "stream",
     "text": [
      "{0, 1, 2, 3, 4, 5, 6, 7, 8, 9, 10}\n"
     ]
    }
   ],
   "source": [
    "#1.j Coerce 1.i to a set\n",
    "one_j = set(one_i)\n",
    "print(one_j)"
   ]
  },
  {
   "cell_type": "code",
   "execution_count": 13,
   "id": "9f3fe600",
   "metadata": {},
   "outputs": [
    {
     "name": "stdout",
     "output_type": "stream",
     "text": [
      "11\n"
     ]
    }
   ],
   "source": [
    "#1.k Count the number of elements in the 1.j\n",
    "one_k = len(one_j)\n",
    "print(one_k)"
   ]
  },
  {
   "cell_type": "markdown",
   "id": "2def6e85",
   "metadata": {},
   "source": [
    "## Problem 2: Dictionary woes"
   ]
  },
  {
   "cell_type": "code",
   "execution_count": 14,
   "id": "fe03daa2",
   "metadata": {},
   "outputs": [
    {
     "name": "stdout",
     "output_type": "stream",
     "text": [
      "{'two_patient_dictionary_kinoko': {'name': 'Kinoko', 'year': 2021}, 'two_patient_dictionary_dango': {'name': 'Dango', 'year': 2019}, 'two_patient_dictionary_mochi': {'name': 'Mochi', 'year': 2020}}\n"
     ]
    }
   ],
   "source": [
    "#2.a Combine the three sample dictionaries (given below) into a nested dictionary (nested in programming means joined), named \n",
    "#  two_a, ensure the key names are the same as the dictionary names.\n",
    "two_patient_dictionary_kinoko = {\n",
    "  \"name\" : \"Kinoko\",\n",
    "  \"year\" : 2021\n",
    "}\n",
    "two_patient_dictionary_dango = {\n",
    "  \"name\" : \"Dango\",\n",
    "  \"year\" : 2019\n",
    "}\n",
    "two_patient_dictionary_mochi  = {\n",
    "  \"name\" : \"Mochi\",\n",
    "  \"year\" : 2020\n",
    "}\n",
    "\n",
    "two_a = {\n",
    "    \"two_patient_dictionary_kinoko\" : two_patient_dictionary_kinoko,\n",
    "    \"two_patient_dictionary_dango\" : two_patient_dictionary_dango,\n",
    "    \"two_patient_dictionary_mochi\" : two_patient_dictionary_mochi\n",
    "}\n",
    "print(two_a)"
   ]
  },
  {
   "cell_type": "code",
   "execution_count": 18,
   "id": "b2177fe5",
   "metadata": {},
   "outputs": [
    {
     "name": "stdout",
     "output_type": "stream",
     "text": [
      "Dango\n",
      "Dango\n"
     ]
    }
   ],
   "source": [
    "#2.b Using keys, retrieve the Dango's name from 2.a\n",
    "two_b = two_patient_dictionary_dango[\"name\"]\n",
    "print(two_b)\n",
    "\n",
    "#or\n",
    "\n",
    "two_b = two_patient_dictionary_dango.get(\"name\")\n",
    "print(two_b)"
   ]
  },
  {
   "cell_type": "code",
   "execution_count": 19,
   "id": "2798d9ad",
   "metadata": {},
   "outputs": [
    {
     "name": "stdout",
     "output_type": "stream",
     "text": [
      "{'two_patient_dictionary_kinoko': {'name': 'Kinoko', 'year': 2021}, 'two_patient_dictionary_dango': {'name': 'Dango', 'year': 2019}, 'two_patient_dictionary_mochi': {'name': 'Mochi', 'year': 2018}}\n"
     ]
    }
   ],
   "source": [
    "#2.c Using keys, update the value of Mochi's year to 2018. This should not be a variable and should simply update 2.a.\n",
    "two_patient_dictionary_mochi[\"year\"] = 2018\n",
    "print(two_a)"
   ]
  },
  {
   "cell_type": "code",
   "execution_count": 20,
   "id": "43a04bd1",
   "metadata": {},
   "outputs": [
    {
     "name": "stdout",
     "output_type": "stream",
     "text": [
      "{'Kinoko': '2021', 'Dango': '2019', 'Mochi': '2019'}\n"
     ]
    }
   ],
   "source": [
    "#2.d Manually create a dictionary that has a single level and contains each patient as the key and the year as the value. Set \n",
    "# Mochi's year to 2019.\n",
    "two_d = {\n",
    "  \"Kinoko\" : \"2021\",\n",
    "  \"Dango\" : \"2019\",\n",
    "  \"Mochi\" : \"2019\"\n",
    "}\n",
    "print(two_d)"
   ]
  },
  {
   "cell_type": "code",
   "execution_count": 21,
   "id": "ffdb3ebf",
   "metadata": {},
   "outputs": [
    {
     "name": "stdout",
     "output_type": "stream",
     "text": [
      "['Kinoko', 'Dango', 'Mochi']\n"
     ]
    }
   ],
   "source": [
    "#2.e Coerce the keys of 2.d into a list\n",
    "two_e = list(two_d.keys())\n",
    "print(two_e)"
   ]
  },
  {
   "cell_type": "code",
   "execution_count": 22,
   "id": "49c53e5e",
   "metadata": {},
   "outputs": [
    {
     "name": "stdout",
     "output_type": "stream",
     "text": [
      "['2021', '2019', '2019']\n"
     ]
    }
   ],
   "source": [
    "#2.f Coerce the values of 2.d into a list\n",
    "two_f = list(two_d.values())\n",
    "print(two_f)"
   ]
  },
  {
   "cell_type": "code",
   "execution_count": 23,
   "id": "bf7c10bb",
   "metadata": {},
   "outputs": [
    {
     "name": "stdout",
     "output_type": "stream",
     "text": [
      "{'Kinoko': '2021', 'Dango': '2019', 'Mochi': '2019'}\n"
     ]
    }
   ],
   "source": [
    "#2.g Use the zip function to combine 2.e and 2.f into a dictionary again\n",
    "# https://stackoverflow.com/questions/209840/how-can-i-make-a-dictionary-from-separate-lists-of-keys-and-values\n",
    "two_g = dict(zip(two_e, two_f))\n",
    "print(two_g)"
   ]
  },
  {
   "cell_type": "markdown",
   "id": "335f7470",
   "metadata": {},
   "source": [
    "## Problem 3: Set combinations"
   ]
  },
  {
   "cell_type": "code",
   "execution_count": 24,
   "id": "58a858a6",
   "metadata": {},
   "outputs": [
    {
     "data": {
      "text/plain": [
       "True"
      ]
     },
     "execution_count": 24,
     "metadata": {},
     "output_type": "execute_result"
    }
   ],
   "source": [
    "#3.a Is set E a subset of set A\n",
    "\n",
    "three_setA = {1,2,3,4,5}\n",
    "three_setB = {2,3,4,5,6}\n",
    "three_setC = {3,5,7,9}\n",
    "three_setD = {2,4,6,8}\n",
    "three_setE = {1,2,3,4}\n",
    "\n",
    "three_setE.issubset(three_setA)"
   ]
  },
  {
   "cell_type": "code",
   "execution_count": 25,
   "id": "809faa7e",
   "metadata": {},
   "outputs": [
    {
     "data": {
      "text/plain": [
       "True"
      ]
     },
     "execution_count": 25,
     "metadata": {},
     "output_type": "execute_result"
    }
   ],
   "source": [
    "#3.b Is set E a strict subset of set A\n",
    "# https://www.pythontutorial.net/python-basics/python-issubset/\n",
    "three_setE < three_setA"
   ]
  },
  {
   "cell_type": "code",
   "execution_count": 26,
   "id": "33b9fe4f",
   "metadata": {},
   "outputs": [
    {
     "name": "stdout",
     "output_type": "stream",
     "text": [
      "{2, 3, 4, 5}\n"
     ]
    }
   ],
   "source": [
    "#3.c Create a set that is the intersection of set A and set B\n",
    "three_c = three_setA.intersection(three_setB)\n",
    "print(three_c)"
   ]
  },
  {
   "cell_type": "code",
   "execution_count": 27,
   "id": "b439b35c",
   "metadata": {},
   "outputs": [
    {
     "name": "stdout",
     "output_type": "stream",
     "text": [
      "{1, 2, 3, 4, 5, 6, 7, 8, 9}\n"
     ]
    }
   ],
   "source": [
    "#3.d Create a set that is the union of sets C, D and E\n",
    "# https://www.pythontutorial.net/python-basics/python-set-union/\n",
    "three_d = set.union(three_setC, three_setD, three_setE)\n",
    "print(three_d)"
   ]
  },
  {
   "cell_type": "code",
   "execution_count": 28,
   "id": "78a09ddc",
   "metadata": {},
   "outputs": [
    {
     "name": "stdout",
     "output_type": "stream",
     "text": [
      "{1, 2, 3, 4, 5, 6, 7, 8, 9}\n"
     ]
    }
   ],
   "source": [
    "#3.e add 9 to the set\n",
    "three_e = three_d.copy()\n",
    "three_e.add(9)\n",
    "print(three_e)\n",
    "# 9 was already in the set, so this did not change anything."
   ]
  },
  {
   "cell_type": "code",
   "execution_count": 31,
   "id": "26a88dfd",
   "metadata": {},
   "outputs": [
    {
     "name": "stdout",
     "output_type": "stream",
     "text": [
      "False\n"
     ]
    }
   ],
   "source": [
    "#3.f Using == compare this set to the list in one_a\n",
    "one_a == three_e\n",
    "three_f = False\n",
    "print(three_f)"
   ]
  },
  {
   "cell_type": "code",
   "execution_count": 32,
   "id": "476aea55",
   "metadata": {},
   "outputs": [
    {
     "name": "stdout",
     "output_type": "stream",
     "text": [
      "They would need to both be either sets or lists (could convert one), and they would need to contain the exact same elements.\n"
     ]
    }
   ],
   "source": [
    "#3.g Explain why they are not the same. What would you need to change if you wanted this to be True?\n",
    "three_g = 'They would need to both be either sets or lists (could convert one), and they would need to contain the exact same elements.'\n",
    "print(three_g)"
   ]
  },
  {
   "cell_type": "markdown",
   "id": "2677bf1f",
   "metadata": {},
   "source": [
    "## Problem 4: Changing variable types\n",
    "\n",
    "For each step you will modify a variable, then append the type of the variable\n",
    "to a list. Do not recreate the list variable, it should be a running list of \n",
    "types."
   ]
  },
  {
   "cell_type": "code",
   "execution_count": 33,
   "id": "654c0451",
   "metadata": {},
   "outputs": [
    {
     "name": "stdout",
     "output_type": "stream",
     "text": [
      "8\n",
      "<class 'int'>\n"
     ]
    }
   ],
   "source": [
    "#4.a Create a variable of type int with the value of 8\n",
    "four_a = int(8)\n",
    "print(four_a)\n",
    "print(type(four_a))"
   ]
  },
  {
   "cell_type": "code",
   "execution_count": 55,
   "id": "1b96939c",
   "metadata": {},
   "outputs": [
    {
     "name": "stdout",
     "output_type": "stream",
     "text": [
      "[]\n"
     ]
    }
   ],
   "source": [
    "#4.b Create an empty list\n",
    "four_list = []\n",
    "print(four_list)"
   ]
  },
  {
   "cell_type": "code",
   "execution_count": 56,
   "id": "20bccb72",
   "metadata": {},
   "outputs": [
    {
     "name": "stdout",
     "output_type": "stream",
     "text": [
      "[<class 'int'>]\n"
     ]
    }
   ],
   "source": [
    "#4.c Using type(), add the type of 4.a to this list\n",
    "four_list.append(type(four_a))\n",
    "print(four_list)"
   ]
  },
  {
   "cell_type": "code",
   "execution_count": 57,
   "id": "1023b54b",
   "metadata": {},
   "outputs": [
    {
     "name": "stdout",
     "output_type": "stream",
     "text": [
      "[<class 'int'>, 0.39]\n"
     ]
    }
   ],
   "source": [
    "#4.d Add 0.39 to 4.c\n",
    "four_list.append(0.39)\n",
    "print(four_list)"
   ]
  },
  {
   "cell_type": "code",
   "execution_count": 58,
   "id": "7c7e97a0",
   "metadata": {},
   "outputs": [
    {
     "name": "stdout",
     "output_type": "stream",
     "text": [
      "[<class 'int'>, 0.39, <class 'float'>]\n"
     ]
    }
   ],
   "source": [
    "#4.e append the type of 0.39 to the list\n",
    "four_list.append(type(four_list[-1]))\n",
    "print(four_list)"
   ]
  },
  {
   "cell_type": "code",
   "execution_count": 59,
   "id": "fb02f41a",
   "metadata": {},
   "outputs": [
    {
     "name": "stdout",
     "output_type": "stream",
     "text": [
      "[<class 'int'>, 0.39, <class 'float'>, 12284]\n"
     ]
    }
   ],
   "source": [
    "#4.f exponentiate to the -10, ie: 4.d^-10,(hint: there might be an artihmetic operator to do so) round it to no decimal places,\n",
    "# and append to list.\n",
    "four_list.append(int(0.39**-10))\n",
    "print(four_list)"
   ]
  },
  {
   "cell_type": "code",
   "execution_count": 60,
   "id": "1821cb14",
   "metadata": {},
   "outputs": [
    {
     "name": "stdout",
     "output_type": "stream",
     "text": [
      "[<class 'int'>, 0.39, <class 'float'>, 12284, <class 'int'>]\n"
     ]
    }
   ],
   "source": [
    "#4.g append the type to the list\n",
    "four_list.append(type(four_list[-1]))\n",
    "print(four_list)"
   ]
  },
  {
   "cell_type": "markdown",
   "id": "d2e462c7",
   "metadata": {},
   "source": [
    "## Problem 5: More variable type changes\n",
    "\n",
    "Continue from where you left off in Problem 4."
   ]
  },
  {
   "cell_type": "code",
   "execution_count": 52,
   "id": "73504def",
   "metadata": {},
   "outputs": [
    {
     "name": "stdout",
     "output_type": "stream",
     "text": [
      "{0: \"<class 'int'>\", 1: 0.39, 2: \"<class 'float'>\", 3: 12284, 4: \"<class 'int'>\"}\n"
     ]
    }
   ],
   "source": [
    "# 5.a Manually create a dictionary where the values are items in the list from where we left in problem 4, and the keys should\n",
    "# be their index in the list. Print the dictionary.\n",
    "five_a = {\n",
    "  0 : \"<class 'int'>\",\n",
    "  1 : 0.39,\n",
    "  2 : \"<class 'float'>\",\n",
    "  3 : 12284,\n",
    "  4 : \"<class 'int'>\"\n",
    "}\n",
    "print(five_a)"
   ]
  },
  {
   "cell_type": "code",
   "execution_count": 61,
   "id": "4f4d3741",
   "metadata": {},
   "outputs": [
    {
     "name": "stdout",
     "output_type": "stream",
     "text": [
      "[<class 'int'>, 0.39, <class 'float'>, 12284, <class 'int'>, '300']\n"
     ]
    }
   ],
   "source": [
    "#5.b Add 300 and coerce it into a string (Umang said this means to add it \"to the list from problem 4\")\n",
    "five_b = four_list.copy()\n",
    "five_b.append(\"300\")\n",
    "print(five_b)"
   ]
  },
  {
   "cell_type": "code",
   "execution_count": 62,
   "id": "90056291",
   "metadata": {},
   "outputs": [
    {
     "name": "stdout",
     "output_type": "stream",
     "text": [
      "[<class 'int'>, 0.39, <class 'float'>, 12284, <class 'int'>, '300', <class 'str'>]\n"
     ]
    }
   ],
   "source": [
    "#5.c append the type to the list\n",
    "five_c = five_b.copy()\n",
    "five_c.append(type(five_c[-1]))\n",
    "print(five_c)"
   ]
  },
  {
   "cell_type": "code",
   "execution_count": 64,
   "id": "f8b1e340",
   "metadata": {},
   "outputs": [
    {
     "name": "stdout",
     "output_type": "stream",
     "text": [
      "30\n"
     ]
    },
    {
     "data": {
      "text/plain": [
       "str"
      ]
     },
     "execution_count": 64,
     "metadata": {},
     "output_type": "execute_result"
    }
   ],
   "source": [
    "#5.d slice the string up to the 2nd element\n",
    "five_d = '300'[:2]\n",
    "print(five_d)\n",
    "type(five_d)"
   ]
  },
  {
   "cell_type": "code",
   "execution_count": 66,
   "id": "66325b23",
   "metadata": {},
   "outputs": [
    {
     "name": "stdout",
     "output_type": "stream",
     "text": [
      "[<class 'int'>, 0.39, <class 'float'>, 12284, <class 'int'>, '300', <class 'str'>, <class 'str'>]\n"
     ]
    }
   ],
   "source": [
    "#5.e append the type to the list\n",
    "five_e = five_c.copy()\n",
    "five_e.append(type(five_d))\n",
    "print(five_e)"
   ]
  },
  {
   "cell_type": "code",
   "execution_count": 71,
   "id": "b48312d3",
   "metadata": {},
   "outputs": [
    {
     "name": "stdout",
     "output_type": "stream",
     "text": [
      "[3, 0]\n",
      "[3, 0]\n"
     ]
    }
   ],
   "source": [
    "#5.f use list comprehension to convert this into a new list of integers\n",
    "# Umang said this means \"create a list of the integers of the string '30', so the list would be [3,0]\"\n",
    "# https://blog.finxter.com/how-to-convert-a-string-list-to-an-integer-list-in-python/\n",
    "\n",
    "five_f = list([int(x) for x in five_d])\n",
    "print(five_f)\n",
    "\n",
    "# or\n",
    "\n",
    "five_f = list(map(int,five_d))        \n",
    "print(five_f)"
   ]
  },
  {
   "cell_type": "code",
   "execution_count": 73,
   "id": "07a801bf",
   "metadata": {},
   "outputs": [
    {
     "name": "stdout",
     "output_type": "stream",
     "text": [
      "[<class 'int'>, 0.39, <class 'float'>, 12284, <class 'int'>, '300', <class 'str'>, <class 'str'>, <class 'list'>]\n"
     ]
    }
   ],
   "source": [
    "#5.g append the type to the list\n",
    "five_g = five_e.copy()\n",
    "five_g.append(type(five_f))\n",
    "print(five_g)"
   ]
  },
  {
   "cell_type": "code",
   "execution_count": 74,
   "id": "ba35d03d",
   "metadata": {},
   "outputs": [
    {
     "name": "stdout",
     "output_type": "stream",
     "text": [
      "[<class 'int'>, 0.39, <class 'float'>, 12284, <class 'int'>, '300', <class 'str'>, <class 'str'>, <class 'list'>, <class 'set'>]\n"
     ]
    }
   ],
   "source": [
    "#5.h append the type of three_setA to the list\n",
    "five_h = five_g.copy()\n",
    "five_h.append(type(three_setA))\n",
    "print(five_h)"
   ]
  },
  {
   "cell_type": "code",
   "execution_count": null,
   "id": "106c589b",
   "metadata": {},
   "outputs": [],
   "source": []
  }
 ],
 "metadata": {
  "kernelspec": {
   "display_name": "Python 3 (ipykernel)",
   "language": "python",
   "name": "python3"
  },
  "language_info": {
   "codemirror_mode": {
    "name": "ipython",
    "version": 3
   },
   "file_extension": ".py",
   "mimetype": "text/x-python",
   "name": "python",
   "nbconvert_exporter": "python",
   "pygments_lexer": "ipython3",
   "version": "3.9.7"
  }
 },
 "nbformat": 4,
 "nbformat_minor": 5
}
